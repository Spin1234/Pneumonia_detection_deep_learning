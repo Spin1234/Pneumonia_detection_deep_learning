{
 "cells": [
  {
   "cell_type": "code",
   "execution_count": 1,
   "id": "dd0c42b1",
   "metadata": {},
   "outputs": [
    {
     "name": "stdout",
     "output_type": "stream",
     "text": [
      "WARNING:tensorflow:From c:\\Users\\sayak\\AppData\\Local\\Programs\\Python\\Python310\\lib\\site-packages\\keras\\src\\losses.py:2976: The name tf.losses.sparse_softmax_cross_entropy is deprecated. Please use tf.compat.v1.losses.sparse_softmax_cross_entropy instead.\n",
      "\n"
     ]
    }
   ],
   "source": [
    "import tensorflow as tf\n",
    "from keras import models, layers\n",
    "from keras.preprocessing.image import ImageDataGenerator\n",
    "import matplotlib.pyplot as plt"
   ]
  },
  {
   "cell_type": "code",
   "execution_count": 2,
   "id": "0dbf565c",
   "metadata": {},
   "outputs": [],
   "source": [
    "IMAGE_SIZE = 224\n",
    "BATCH_SIZE = 32\n",
    "CHANNELS = 3\n",
    "EPOCHS=25"
   ]
  },
  {
   "cell_type": "code",
   "execution_count": 3,
   "id": "d9e38860",
   "metadata": {},
   "outputs": [
    {
     "name": "stdout",
     "output_type": "stream",
     "text": [
      "Found 12230 images belonging to 2 classes.\n"
     ]
    }
   ],
   "source": [
    "datagen = ImageDataGenerator(\n",
    "    rescale=1./255,\n",
    "    rotation_range=20,\n",
    "    width_shift_range=0.2,\n",
    "    height_shift_range=0.2,\n",
    "    shear_range=0.2,\n",
    "    zoom_range=0.2,\n",
    "    horizontal_flip=True,\n",
    "    fill_mode='nearest'\n",
    ")\n",
    "\n",
    "train_generator = datagen.flow_from_directory(\n",
    "    r\"D:\\Deep Learning & ML\\pneumonia_detection\\training\\chest_x_ray_aug\\train\",\n",
    "    target_size=(IMAGE_SIZE, IMAGE_SIZE),\n",
    "    batch_size=BATCH_SIZE,\n",
    "    class_mode='categorical',\n",
    "    shuffle=True\n",
    ")"
   ]
  },
  {
   "cell_type": "code",
   "execution_count": 4,
   "id": "2792165f",
   "metadata": {},
   "outputs": [
    {
     "name": "stdout",
     "output_type": "stream",
     "text": [
      "Found 1747 images belonging to 2 classes.\n"
     ]
    }
   ],
   "source": [
    "test_datagen = ImageDataGenerator(rescale=1./255)\n",
    "\n",
    "# this is a similar generator, for validation data\n",
    "validation_generator = test_datagen.flow_from_directory(\n",
    "        r\"D:\\Deep Learning & ML\\pneumonia_detection\\training\\chest_x_ray_aug\\valid\",\n",
    "        target_size=(IMAGE_SIZE, IMAGE_SIZE),\n",
    "        batch_size=BATCH_SIZE,\n",
    "        class_mode='categorical')"
   ]
  },
  {
   "cell_type": "code",
   "execution_count": 6,
   "id": "a64b894c",
   "metadata": {},
   "outputs": [
    {
     "name": "stdout",
     "output_type": "stream",
     "text": [
      "WARNING:tensorflow:From C:\\Users\\sayak\\AppData\\Local\\Programs\\Python\\Python310\\lib\\site-packages\\keras\\src\\backend.py:873: The name tf.get_default_graph is deprecated. Please use tf.compat.v1.get_default_graph instead.\n",
      "\n",
      "WARNING:tensorflow:From C:\\Users\\sayak\\AppData\\Local\\Programs\\Python\\Python310\\lib\\site-packages\\keras\\src\\layers\\pooling\\max_pooling2d.py:161: The name tf.nn.max_pool is deprecated. Please use tf.nn.max_pool2d instead.\n",
      "\n"
     ]
    }
   ],
   "source": [
    "input_shape = (BATCH_SIZE, IMAGE_SIZE, IMAGE_SIZE, CHANNELS)\n",
    "n_classes=2\n",
    "\n",
    "model = models.Sequential([\n",
    "    layers.Conv2D(32, (3,3), activation='relu', input_shape=(IMAGE_SIZE, IMAGE_SIZE, CHANNELS)),\n",
    "    layers.MaxPooling2D((2,2)),\n",
    "    layers.Conv2D(64, (3,3), activation='relu'),\n",
    "    layers.MaxPooling2D((2,2)),\n",
    "    layers.Conv2D(64, (3,3), activation='relu'),\n",
    "    layers.MaxPooling2D((2,2)),\n",
    "    layers.Conv2D(64, (3,3), activation='relu'),\n",
    "    layers.MaxPooling2D((2,2)),\n",
    "    layers.Conv2D(64, (3,3), activation='relu'),\n",
    "    layers.MaxPooling2D((2,2)),\n",
    "    layers.Conv2D(64, (3,3), activation='relu'),\n",
    "    layers.MaxPooling2D((2,2)),\n",
    "    layers.Flatten(),\n",
    "    layers.Dense(64, activation='relu'),\n",
    "    layers.Dense(128, activation='relu'),\n",
    "    layers.Dense(n_classes, activation='softmax'),\n",
    "])\n",
    "model.build(input_shape=input_shape)"
   ]
  },
  {
   "cell_type": "code",
   "execution_count": 7,
   "id": "eb16544f",
   "metadata": {},
   "outputs": [
    {
     "name": "stdout",
     "output_type": "stream",
     "text": [
      "Model: \"sequential\"\n",
      "_________________________________________________________________\n",
      " Layer (type)                Output Shape              Param #   \n",
      "=================================================================\n",
      " conv2d (Conv2D)             (None, 222, 222, 32)      896       \n",
      "                                                                 \n",
      " max_pooling2d (MaxPooling2  (None, 111, 111, 32)      0         \n",
      " D)                                                              \n",
      "                                                                 \n",
      " conv2d_1 (Conv2D)           (None, 109, 109, 64)      18496     \n",
      "                                                                 \n",
      " max_pooling2d_1 (MaxPoolin  (None, 54, 54, 64)        0         \n",
      " g2D)                                                            \n",
      "                                                                 \n",
      " conv2d_2 (Conv2D)           (None, 52, 52, 64)        36928     \n",
      "                                                                 \n",
      " max_pooling2d_2 (MaxPoolin  (None, 26, 26, 64)        0         \n",
      " g2D)                                                            \n",
      "                                                                 \n",
      " conv2d_3 (Conv2D)           (None, 24, 24, 64)        36928     \n",
      "                                                                 \n",
      " max_pooling2d_3 (MaxPoolin  (None, 12, 12, 64)        0         \n",
      " g2D)                                                            \n",
      "                                                                 \n",
      " conv2d_4 (Conv2D)           (None, 10, 10, 64)        36928     \n",
      "                                                                 \n",
      " max_pooling2d_4 (MaxPoolin  (None, 5, 5, 64)          0         \n",
      " g2D)                                                            \n",
      "                                                                 \n",
      " conv2d_5 (Conv2D)           (None, 3, 3, 64)          36928     \n",
      "                                                                 \n",
      " max_pooling2d_5 (MaxPoolin  (None, 1, 1, 64)          0         \n",
      " g2D)                                                            \n",
      "                                                                 \n",
      " flatten (Flatten)           (None, 64)                0         \n",
      "                                                                 \n",
      " dense (Dense)               (None, 64)                4160      \n",
      "                                                                 \n",
      " dense_1 (Dense)             (None, 128)               8320      \n",
      "                                                                 \n",
      " dense_2 (Dense)             (None, 2)                 258       \n",
      "                                                                 \n",
      "=================================================================\n",
      "Total params: 179842 (702.51 KB)\n",
      "Trainable params: 179842 (702.51 KB)\n",
      "Non-trainable params: 0 (0.00 Byte)\n",
      "_________________________________________________________________\n"
     ]
    }
   ],
   "source": [
    "model.summary()"
   ]
  },
  {
   "cell_type": "code",
   "execution_count": 8,
   "id": "acde6949",
   "metadata": {},
   "outputs": [
    {
     "name": "stdout",
     "output_type": "stream",
     "text": [
      "WARNING:tensorflow:From C:\\Users\\sayak\\AppData\\Local\\Programs\\Python\\Python310\\lib\\site-packages\\keras\\src\\optimizers\\__init__.py:309: The name tf.train.Optimizer is deprecated. Please use tf.compat.v1.train.Optimizer instead.\n",
      "\n"
     ]
    }
   ],
   "source": [
    "model.compile(\n",
    "    optimizer='adam',\n",
    "    loss=tf.keras.losses.CategoricalCrossentropy(from_logits=False),\n",
    "    metrics=['accuracy']\n",
    ")"
   ]
  },
  {
   "cell_type": "code",
   "execution_count": 9,
   "id": "3de003a7",
   "metadata": {},
   "outputs": [
    {
     "name": "stdout",
     "output_type": "stream",
     "text": [
      "Epoch 1/25\n",
      "WARNING:tensorflow:From C:\\Users\\sayak\\AppData\\Local\\Programs\\Python\\Python310\\lib\\site-packages\\keras\\src\\utils\\tf_utils.py:492: The name tf.ragged.RaggedTensorValue is deprecated. Please use tf.compat.v1.ragged.RaggedTensorValue instead.\n",
      "\n",
      "WARNING:tensorflow:From C:\\Users\\sayak\\AppData\\Local\\Programs\\Python\\Python310\\lib\\site-packages\\keras\\src\\engine\\base_layer_utils.py:384: The name tf.executing_eagerly_outside_functions is deprecated. Please use tf.compat.v1.executing_eagerly_outside_functions instead.\n",
      "\n",
      "383/383 [==============================] - 296s 767ms/step - loss: 0.5931 - accuracy: 0.7292 - val_loss: 0.5875 - val_accuracy: 0.7281\n",
      "Epoch 2/25\n",
      "383/383 [==============================] - 299s 780ms/step - loss: 0.4605 - accuracy: 0.7833 - val_loss: 0.2633 - val_accuracy: 0.8958\n",
      "Epoch 3/25\n",
      "383/383 [==============================] - 309s 806ms/step - loss: 0.2982 - accuracy: 0.8745 - val_loss: 0.1809 - val_accuracy: 0.9428\n",
      "Epoch 4/25\n",
      "383/383 [==============================] - 303s 791ms/step - loss: 0.2506 - accuracy: 0.8986 - val_loss: 0.1448 - val_accuracy: 0.9531\n",
      "Epoch 5/25\n",
      "383/383 [==============================] - 377s 985ms/step - loss: 0.2384 - accuracy: 0.9051 - val_loss: 0.1554 - val_accuracy: 0.9416\n",
      "Epoch 6/25\n",
      "383/383 [==============================] - 514s 1s/step - loss: 0.2086 - accuracy: 0.9187 - val_loss: 0.4080 - val_accuracy: 0.8071\n",
      "Epoch 7/25\n",
      "383/383 [==============================] - 513s 1s/step - loss: 0.2080 - accuracy: 0.9192 - val_loss: 0.1241 - val_accuracy: 0.9565\n",
      "Epoch 8/25\n",
      "383/383 [==============================] - 828s 2s/step - loss: 0.2033 - accuracy: 0.9212 - val_loss: 0.1193 - val_accuracy: 0.9576\n",
      "Epoch 9/25\n",
      "383/383 [==============================] - 527s 1s/step - loss: 0.1840 - accuracy: 0.9298 - val_loss: 0.1140 - val_accuracy: 0.9634\n",
      "Epoch 10/25\n",
      "383/383 [==============================] - 525s 1s/step - loss: 0.1842 - accuracy: 0.9298 - val_loss: 0.1399 - val_accuracy: 0.9468\n",
      "Epoch 11/25\n",
      "383/383 [==============================] - 517s 1s/step - loss: 0.1812 - accuracy: 0.9301 - val_loss: 0.1321 - val_accuracy: 0.9554\n",
      "Epoch 12/25\n",
      "383/383 [==============================] - 631s 2s/step - loss: 0.1769 - accuracy: 0.9338 - val_loss: 0.1159 - val_accuracy: 0.9571\n",
      "Epoch 13/25\n",
      "383/383 [==============================] - 297s 774ms/step - loss: 0.1733 - accuracy: 0.9331 - val_loss: 0.1134 - val_accuracy: 0.9594\n",
      "Epoch 14/25\n",
      "383/383 [==============================] - 510s 1s/step - loss: 0.1684 - accuracy: 0.9347 - val_loss: 0.1733 - val_accuracy: 0.9347\n",
      "Epoch 15/25\n",
      "383/383 [==============================] - 475s 1s/step - loss: 0.1631 - accuracy: 0.9379 - val_loss: 0.1230 - val_accuracy: 0.9605\n",
      "Epoch 16/25\n",
      "383/383 [==============================] - 363s 947ms/step - loss: 0.1616 - accuracy: 0.9387 - val_loss: 0.1321 - val_accuracy: 0.9502\n",
      "Epoch 17/25\n",
      "383/383 [==============================] - 318s 827ms/step - loss: 0.1599 - accuracy: 0.9370 - val_loss: 0.1326 - val_accuracy: 0.9485\n",
      "Epoch 18/25\n",
      "383/383 [==============================] - 319s 832ms/step - loss: 0.1544 - accuracy: 0.9405 - val_loss: 0.1226 - val_accuracy: 0.9559\n",
      "Epoch 19/25\n",
      "383/383 [==============================] - 312s 814ms/step - loss: 0.1496 - accuracy: 0.9431 - val_loss: 0.1397 - val_accuracy: 0.9536\n",
      "Epoch 20/25\n",
      "383/383 [==============================] - 356s 930ms/step - loss: 0.1483 - accuracy: 0.9419 - val_loss: 0.1248 - val_accuracy: 0.9548\n",
      "Epoch 21/25\n",
      "383/383 [==============================] - 550s 1s/step - loss: 0.1473 - accuracy: 0.9459 - val_loss: 0.0986 - val_accuracy: 0.9628\n",
      "Epoch 22/25\n",
      "383/383 [==============================] - 331s 862ms/step - loss: 0.1446 - accuracy: 0.9459 - val_loss: 0.1081 - val_accuracy: 0.9616\n",
      "Epoch 23/25\n",
      "383/383 [==============================] - 338s 881ms/step - loss: 0.1376 - accuracy: 0.9492 - val_loss: 0.1119 - val_accuracy: 0.9565\n",
      "Epoch 24/25\n",
      "383/383 [==============================] - 335s 871ms/step - loss: 0.1348 - accuracy: 0.9486 - val_loss: 0.1505 - val_accuracy: 0.9473\n",
      "Epoch 25/25\n",
      "383/383 [==============================] - 286s 747ms/step - loss: 0.1396 - accuracy: 0.9467 - val_loss: 0.0954 - val_accuracy: 0.9674\n"
     ]
    },
    {
     "data": {
      "text/plain": [
       "<keras.src.callbacks.History at 0x174b87cecb0>"
      ]
     },
     "execution_count": 9,
     "metadata": {},
     "output_type": "execute_result"
    }
   ],
   "source": [
    "model.fit(\n",
    "    train_generator,\n",
    "    epochs=EPOCHS,\n",
    "    validation_data=validation_generator\n",
    ")"
   ]
  },
  {
   "cell_type": "code",
   "execution_count": 10,
   "id": "1681e7ca",
   "metadata": {},
   "outputs": [
    {
     "name": "stdout",
     "output_type": "stream",
     "text": [
      "INFO:tensorflow:Assets written to: D:\\Deep Learning & ML\\pneumonia_detection\\model_updated\\2\\assets\n"
     ]
    },
    {
     "name": "stderr",
     "output_type": "stream",
     "text": [
      "INFO:tensorflow:Assets written to: D:\\Deep Learning & ML\\pneumonia_detection\\model_updated\\2\\assets\n"
     ]
    }
   ],
   "source": [
    "model_version=2\n",
    "model.save(f\"D:\\Deep Learning & ML\\pneumonia_detection\\model_updated\\{model_version}\")"
   ]
  },
  {
   "cell_type": "code",
   "execution_count": 5,
   "id": "670eeb98",
   "metadata": {},
   "outputs": [
    {
     "name": "stdout",
     "output_type": "stream",
     "text": [
      "WARNING:tensorflow:From c:\\Users\\sayak\\AppData\\Local\\Programs\\Python\\Python310\\lib\\site-packages\\keras\\src\\saving\\legacy\\saved_model\\load.py:107: The name tf.gfile.Exists is deprecated. Please use tf.io.gfile.exists instead.\n",
      "\n",
      "WARNING:tensorflow:From c:\\Users\\sayak\\AppData\\Local\\Programs\\Python\\Python310\\lib\\site-packages\\keras\\src\\layers\\pooling\\max_pooling2d.py:161: The name tf.nn.max_pool is deprecated. Please use tf.nn.max_pool2d instead.\n",
      "\n",
      "WARNING:tensorflow:From c:\\Users\\sayak\\AppData\\Local\\Programs\\Python\\Python310\\lib\\site-packages\\keras\\src\\utils\\tf_utils.py:585: The name tf.executing_eagerly_outside_functions is deprecated. Please use tf.compat.v1.executing_eagerly_outside_functions instead.\n",
      "\n",
      "1/1 [==============================] - 1s 621ms/step\n",
      "Accuracy: 0.96875\n",
      "Precision: 1.0\n",
      "Recall: 0.9523809523809523\n",
      "              precision    recall  f1-score   support\n",
      "\n",
      "           0       0.92      1.00      0.96        11\n",
      "           1       1.00      0.95      0.98        21\n",
      "\n",
      "    accuracy                           0.97        32\n",
      "   macro avg       0.96      0.98      0.97        32\n",
      "weighted avg       0.97      0.97      0.97        32\n",
      "\n"
     ]
    }
   ],
   "source": [
    "from keras import models, layers\n",
    "MODEL = tf.keras.models.load_model(r\"D:\\Deep Learning & ML\\pneumonia_detection\\model_cnn_updated\\2\")\n",
    "\n",
    "from sklearn.metrics import accuracy_score, precision_score, recall_score, classification_report\n",
    "import numpy as np\n",
    "# Get true labels and predicted labels for validation data\n",
    "val_data, val_labels = validation_generator.next()\n",
    "val_pred_probs = MODEL.predict(val_data)\n",
    "val_pred_labels = np.argmax(val_pred_probs, axis=1)  # Convert predicted probabilities to labels\n",
    "\n",
    "# Calculate accuracy\n",
    "accuracy = accuracy_score(np.argmax(val_labels, axis=1), val_pred_labels)\n",
    "\n",
    "# Calculate precision\n",
    "precision = precision_score(np.argmax(val_labels, axis=1), val_pred_labels)\n",
    "\n",
    "# Calculate recall\n",
    "recall = recall_score(np.argmax(val_labels, axis=1), val_pred_labels)\n",
    "\n",
    "print(\"Accuracy:\", accuracy)\n",
    "print(\"Precision:\", precision)\n",
    "print(\"Recall:\", recall)\n",
    "\n",
    "# You can also print a classification report which includes precision, recall, and F1-score for each class\n",
    "print(classification_report(np.argmax(val_labels, axis=1), val_pred_labels))"
   ]
  },
  {
   "cell_type": "code",
   "execution_count": null,
   "id": "ce7a8235",
   "metadata": {},
   "outputs": [],
   "source": []
  }
 ],
 "metadata": {
  "kernelspec": {
   "display_name": "Python 3 (ipykernel)",
   "language": "python",
   "name": "python3"
  },
  "language_info": {
   "codemirror_mode": {
    "name": "ipython",
    "version": 3
   },
   "file_extension": ".py",
   "mimetype": "text/x-python",
   "name": "python",
   "nbconvert_exporter": "python",
   "pygments_lexer": "ipython3",
   "version": "3.10.0"
  },
  "vscode": {
   "interpreter": {
    "hash": "d9bdace38f7e3dcfd4563777ce9b0d79feeee088501decaadab884887d581f1a"
   }
  }
 },
 "nbformat": 4,
 "nbformat_minor": 5
}
